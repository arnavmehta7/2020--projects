{
 "cells": [
  {
   "cell_type": "code",
   "execution_count": 3,
   "metadata": {},
   "outputs": [],
   "source": [
    "from tensorflow.keras.preprocessing.image import load_img, img_to_array, save_img\n",
    "from tensorflow.keras.models import model_from_json\n",
    "import numpy as np\n",
    "from tensorflow.keras.optimizers import RMSprop\n",
    "import tensorflow as tf"
   ]
  },
  {
   "cell_type": "code",
   "execution_count": 32,
   "metadata": {},
   "outputs": [
    {
     "name": "stdout",
     "output_type": "stream",
     "text": [
      "Model: \"sequential_1\"\n",
      "_________________________________________________________________\n",
      "Layer (type)                 Output Shape              Param #   \n",
      "=================================================================\n",
      "conv2d_5 (Conv2D)            (None, 298, 298, 16)      160       \n",
      "_________________________________________________________________\n",
      "max_pooling2d_5 (MaxPooling2 (None, 149, 149, 16)      0         \n",
      "_________________________________________________________________\n",
      "dropout_5 (Dropout)          (None, 149, 149, 16)      0         \n",
      "_________________________________________________________________\n",
      "conv2d_6 (Conv2D)            (None, 147, 147, 32)      4640      \n",
      "_________________________________________________________________\n",
      "max_pooling2d_6 (MaxPooling2 (None, 73, 73, 32)        0         \n",
      "_________________________________________________________________\n",
      "dropout_6 (Dropout)          (None, 73, 73, 32)        0         \n",
      "_________________________________________________________________\n",
      "conv2d_7 (Conv2D)            (None, 71, 71, 64)        18496     \n",
      "_________________________________________________________________\n",
      "max_pooling2d_7 (MaxPooling2 (None, 35, 35, 64)        0         \n",
      "_________________________________________________________________\n",
      "dropout_7 (Dropout)          (None, 35, 35, 64)        0         \n",
      "_________________________________________________________________\n",
      "conv2d_8 (Conv2D)            (None, 33, 33, 64)        36928     \n",
      "_________________________________________________________________\n",
      "max_pooling2d_8 (MaxPooling2 (None, 16, 16, 64)        0         \n",
      "_________________________________________________________________\n",
      "dropout_8 (Dropout)          (None, 16, 16, 64)        0         \n",
      "_________________________________________________________________\n",
      "conv2d_9 (Conv2D)            (None, 14, 14, 64)        36928     \n",
      "_________________________________________________________________\n",
      "max_pooling2d_9 (MaxPooling2 (None, 7, 7, 64)          0         \n",
      "_________________________________________________________________\n",
      "dropout_9 (Dropout)          (None, 7, 7, 64)          0         \n",
      "_________________________________________________________________\n",
      "flatten_1 (Flatten)          (None, 3136)              0         \n",
      "_________________________________________________________________\n",
      "dense_2 (Dense)              (None, 512)               1606144   \n",
      "_________________________________________________________________\n",
      "dense_3 (Dense)              (None, 1)                 513       \n",
      "=================================================================\n",
      "Total params: 1,703,809\n",
      "Trainable params: 1,703,809\n",
      "Non-trainable params: 0\n",
      "_________________________________________________________________\n"
     ]
    }
   ],
   "source": [
    "model = tf.keras.models.Sequential([  ## initializing and making an empty model with sequential\n",
    "  \n",
    "    # Note the input shape is the desired size of the image 300x300 with 3 bytes color\n",
    "    # This is the first convolution layer\n",
    "    tf.keras.layers.Conv2D(16, (3,3), activation='relu', input_shape=(300, 300,1)), ## image input shape is 300x300x3 \n",
    "                           #16 neurons in this layer\n",
    "\n",
    "\n",
    "    tf.keras.layers.MaxPooling2D(2,2),    # doing max_pooling\n",
    "    tf.keras.layers.Dropout(0.2),\n",
    "\n",
    "  \n",
    "    # The second convolution layer\n",
    "    tf.keras.layers.Conv2D(32, (3,3), activation='relu'), # another layer with 32 neurons\n",
    "    tf.keras.layers.MaxPooling2D(2,2),     # doing max_pooling\n",
    "    tf.keras.layers.Dropout(0.2),\n",
    "\n",
    "\n",
    "    # The third convolution layer\n",
    "    tf.keras.layers.Conv2D(64, (3,3), activation='relu'), # another layer with 64 neurons\n",
    "    tf.keras.layers.MaxPooling2D(2,2),        # doing max_pooling\n",
    "    tf.keras.layers.Dropout(0.2),\n",
    "\n",
    "\n",
    "\n",
    "    # The fourth convolution layer\n",
    "    tf.keras.layers.Conv2D(64, (3,3), activation='relu'), # another layer with 64 neurons\n",
    "    tf.keras.layers.MaxPooling2D(2,2),          # doing max_pooling\n",
    "    tf.keras.layers.Dropout(0.2),  \n",
    "\n",
    "\n",
    "    # The fifth convolution \n",
    "    tf.keras.layers.Conv2D(64, (3,3), activation='relu'), # another layer with 64 neurons\n",
    "    tf.keras.layers.MaxPooling2D(2,2),        # doing max_pooling\n",
    "    tf.keras.layers.Dropout(0.2),\n",
    "\n",
    "\n",
    "\n",
    "    tf.keras.layers.Flatten(),  # reducing layers arrays \n",
    "    tf.keras.layers.Dense(512, activation='relu'), # 512 neuron hidden layer\n",
    "\n",
    "\n",
    "\n",
    "    # Only 1 output neuron. It will contain a value from 0-1 where 0 for ('normal') clas and \n",
    "    # 1 for ('pneumonia') class\n",
    "    tf.keras.layers.Dense(1, activation='sigmoid')\n",
    "\n",
    "])\n",
    "\n",
    "# to get the summary of the model\n",
    "model.summary()  # summarising a model\n",
    "\n",
    "# configure the model for traning by adding metrics\n",
    "model.compile(loss='binary_crossentropy', optimizer=RMSprop(lr=0.001), metrics = ['accuracy'])"
   ]
  },
  {
   "cell_type": "code",
   "execution_count": 5,
   "metadata": {},
   "outputs": [
    {
     "name": "stdout",
     "output_type": "stream",
     "text": [
      "Created model and loaded weights from file\n"
     ]
    }
   ],
   "source": [
    "model.load_weights(\"weights.best_dropout.hdf5\")\n",
    "# Compile model (required to make predictions)\n",
    "model.compile(loss='binary_crossentropy', optimizer=RMSprop(lr=0.001), metrics = ['accuracy'])\n",
    "print(\"Created model and loaded weights from file\")"
   ]
  },
  {
   "cell_type": "code",
   "execution_count": 13,
   "metadata": {},
   "outputs": [],
   "source": [
    "import cv2\n",
    "from keras.preprocessing import image\n",
    "def img(img):\n",
    "    img = cv2.imread(img)\n",
    "    img = cv2.cvtColor(img,cv2.COLOR_BGR2GRAY)\n",
    "    img = cv2.resize(img,(300,300))\n",
    "    \n",
    "\n",
    "    x = image.img_to_array(img)\n",
    "    x = np.expand_dims(x, axis =0)\n",
    "\n",
    "    images = np.vstack([x])\n",
    "\n",
    "\n",
    "\n",
    "    classes = model.predict(images, batch_size = 10)\n",
    "    print(classes[0])\n",
    "    if classes[0]> 0.5:  #''' we could also had used np.argmax ?? then sliced through a list??''' \n",
    "        printf('is pneumonia')\n",
    "        cv2.imshow(img)\n",
    "        cv2.waitKey(0)\n",
    "    else:\n",
    "        print('is normal')\n",
    "        cv2.imshow('img',img)\n",
    "        print('Person isnt infected . It has no problem')\n",
    "        cv2.waitKey(0)\n"
   ]
  },
  {
   "cell_type": "code",
   "execution_count": 14,
   "metadata": {},
   "outputs": [
    {
     "name": "stdout",
     "output_type": "stream",
     "text": [
      "[0.]\n",
      "is normal\n",
      "Person isnt infected . It has no problem\n"
     ]
    }
   ],
   "source": [
    "img('C:/Users/Mehta/Pictures/download-21.png')"
   ]
  },
  {
   "cell_type": "code",
   "execution_count": 16,
   "metadata": {},
   "outputs": [],
   "source": [
    "import streamlit as st\n",
    "import os # inbuilt module\n",
    "import random # inbuilt module\n",
    "import webbrowser # inbuilt module"
   ]
  },
  {
   "cell_type": "code",
   "execution_count": 20,
   "metadata": {},
   "outputs": [],
   "source": [
    "st.title(\"\"\"Pulmonary disease  Recognizer\"\"\")\n",
    "from PIL import Image"
   ]
  },
  {
   "cell_type": "code",
   "execution_count": 23,
   "metadata": {},
   "outputs": [],
   "source": [
    "#=================================== Title ===============================\n",
    "st.title(\"\"\"Pulmonary disease  Recognizer\"\"\")\n",
    "\n",
    "#================================= Title Image ===========================\n",
    "st.text(\"\"\"\"\"\")\n",
    "# img_path_list = [\"static\\\\image_1.jpg\",\n",
    "# \t\t\t\t\"static\\\\image_2.jpg\"]\n",
    "# index = random.choice([0,1])\n",
    "# image = Image.open(img_path_list[index])\n",
    "# st.image(\n",
    "# \t        image,\n",
    "# \t        use_column_width=True,\n",
    "# \t    )\n",
    "\n",
    "#================================= About =================================\n",
    "st.write(\"\"\"\n",
    "## 1️⃣ About\n",
    "\t\"\"\")\n",
    "st.write(\"\"\"\n",
    "Hi all, Welcome to this project. It is a Normal or Infected Recognizer App!!!\n",
    "\t\"\"\")\n",
    "st.write(\"\"\"\n",
    "You have to upload your own test images to test it!!!\n",
    "\t\"\"\")\n",
    "st.write(\"\"\"\n",
    "**Or**, if you are too much lazy **(**😎, like me!**)**, then also no problem, we already selected some test images for you, you have to just go to that section & click the **⬇️ Download** button to download those pictures!  \n",
    "\t\"\"\")\n",
    "\n",
    "#============================ How To Use It ===============================\n",
    "st.write(\"\"\"\n",
    "## 2️⃣ How To Use It\n",
    "\t\"\"\")\n",
    "st.write(\"\"\"\n",
    "Well, it's pretty simple!!!\n",
    "- Let me clear first, the model has power to predict image of Lungs only, so you are requested to give image of a Lung, unless useless prediction can be done!!! 😆 \n",
    "- First of all,get images!\n",
    "- Next, just Browse that file or Drag & drop that file!\n",
    "- Please make sure that, you are uploading a picture file!\n",
    "- Press the **👉🏼 Predict** button to see the magic!!!\n",
    "\n",
    "🔘 **NOTE :** *If you upload other than an image file, then it will show an error massage when you will click the* **👉🏼 Predict** *button!!!*\n",
    "\t\"\"\")\n",
    "\n",
    "#========================= What It Will Predict ===========================\n",
    "st.write(\"\"\"\n",
    "## 3️⃣ What It Will Predict\n",
    "\t\"\"\")\n",
    "st.write(\"\"\"\n",
    "Well, it can predict wheather the image you have uploaded is the image of a Cat 🐈 or a Dog 🐕!\n",
    "\t\"\"\")\n",
    "\n",
    "#============================== Sample Images For Testing ==================\n",
    "st.write(\"\"\"\n",
    "## 4️⃣  Download Some Images For Testing!!!\n",
    "\t\"\"\")\n",
    "st.write(\"\"\"\n",
    "Hey there! here is some images of Cats & Dogs!\n",
    "- Here you can find a total of 10 images **[**5 for each category**]**\n",
    "- Just click on **⬇️ Download** button & download those images!!!\n",
    "- You can also try your own images!!!\n",
    "\t\"\"\")\n",
    "\n",
    "#============================= Download Button =============================\n",
    "st.text(\"\"\"\"\"\")\n",
    "download = st.button(\"⬇️ Download\")\n",
    "\n",
    "#============================ Download Clicked =============================\n",
    "if download:\n",
    "\tlink = \"https://drive.google.com/drive/folders/1i_ukZQxJsCWq2WpISwNa5HFD8smxNdee?usp=sharing\"\n",
    "\ttry:\n",
    "\t\twebbrowser.open(link)\n",
    "\texcept:\n",
    "\t\tst.write(\"\"\"\n",
    "    \t\t⭕ Something Went Wrong!!! Please Try Again Later!!!\n",
    "    \t\t\"\"\")\n"
   ]
  },
  {
   "cell_type": "code",
   "execution_count": 33,
   "metadata": {},
   "outputs": [],
   "source": [
    "\n",
    "            model_path_h5 = \"weights.best_dropout.hdf5\"\n",
    "            # model_path_json = \"model.json\"\n",
    "            # json_file = open(model_path_json, 'r')\n",
    "            # loaded_model_json = json_file.read()\n",
    "            # json_file.close()\n",
    "            # loaded_model = model_from_json(loaded_model_json)\n",
    "            model.load_weights(model_path_h5)\n",
    "\n"
   ]
  },
  {
   "cell_type": "code",
   "execution_count": 25,
   "metadata": {},
   "outputs": [],
   "source": []
  },
  {
   "cell_type": "code",
   "execution_count": 30,
   "metadata": {},
   "outputs": [
    {
     "name": "stderr",
     "output_type": "stream",
     "text": [
      "Usage: streamlit run [OPTIONS] TARGET [ARGS]...\n",
      "Try 'streamlit run --help' for help.\n",
      "\n",
      "Error: Missing argument 'TARGET'.\n"
     ]
    }
   ],
   "source": [
    "!streamlit run"
   ]
  },
  {
   "cell_type": "code",
   "execution_count": null,
   "metadata": {},
   "outputs": [],
   "source": []
  }
 ],
 "metadata": {
  "kernelspec": {
   "display_name": "Python 3",
   "language": "python",
   "name": "python3"
  },
  "language_info": {
   "codemirror_mode": {
    "name": "ipython",
    "version": 3
   },
   "file_extension": ".py",
   "mimetype": "text/x-python",
   "name": "python",
   "nbconvert_exporter": "python",
   "pygments_lexer": "ipython3",
   "version": "3.6.12"
  }
 },
 "nbformat": 4,
 "nbformat_minor": 4
}
