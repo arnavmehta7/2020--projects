{
 "cells": [
  {
   "cell_type": "markdown",
   "metadata": {},
   "source": [
    "# Axis, Sorting and other functions"
   ]
  },
  {
   "cell_type": "code",
   "execution_count": 1,
   "metadata": {},
   "outputs": [],
   "source": [
    "import numpy as np"
   ]
  },
  {
   "cell_type": "code",
   "execution_count": 2,
   "metadata": {},
   "outputs": [
    {
     "output_type": "execute_result",
     "data": {
      "text/plain": "array([ 6,  8, 10, 12])"
     },
     "metadata": {},
     "execution_count": 2
    }
   ],
   "source": [
    "a = np.array([[1,2,3,4],\n",
    "                [5,6,7,8]])\n",
    "a.sum(axis=0)   # adding from up to down   or length \\\\\\ vertically"
   ]
  },
  {
   "cell_type": "code",
   "execution_count": 3,
   "metadata": {},
   "outputs": [
    {
     "output_type": "execute_result",
     "data": {
      "text/plain": "array([10, 26])"
     },
     "metadata": {},
     "execution_count": 3
    }
   ],
   "source": [
    "a.sum(axis=1)     # Multiplying from left to right of one to other \\\\\\ horizontally"
   ]
  },
  {
   "cell_type": "code",
   "execution_count": 4,
   "metadata": {},
   "outputs": [],
   "source": [
    "b = np.array([[2,5,1,7],\n",
    "                [0,6,34,1]])"
   ]
  },
  {
   "cell_type": "code",
   "execution_count": 5,
   "metadata": {},
   "outputs": [
    {
     "output_type": "execute_result",
     "data": {
      "text/plain": "array([[ 0,  5,  1,  1],\n       [ 2,  6, 34,  7]])"
     },
     "metadata": {},
     "execution_count": 5
    }
   ],
   "source": [
    "np.sort(b,axis=0)"
   ]
  },
  {
   "cell_type": "code",
   "execution_count": 6,
   "metadata": {
    "tags": []
   },
   "outputs": [
    {
     "output_type": "stream",
     "name": "stdout",
     "text": "(3, 5)\n2\n"
    }
   ],
   "source": [
    "## Slicing\n",
    "new = np.array([[1,2,3,4,5],\n",
    "               [6,7,8,9,0],\n",
    "               [3,43,23,1,32]])\n",
    "print(new.shape)\n",
    "print(new.ndim)"
   ]
  },
  {
   "cell_type": "code",
   "execution_count": 7,
   "metadata": {},
   "outputs": [
    {
     "output_type": "execute_result",
     "data": {
      "text/plain": "array([[ 1,  2,  3,  4,  5],\n       [ 6,  7,  8,  9,  0],\n       [ 3, 43, 23,  1, 32]])"
     },
     "metadata": {},
     "execution_count": 7
    }
   ],
   "source": [
    "new"
   ]
  },
  {
   "cell_type": "code",
   "execution_count": 8,
   "metadata": {
    "tags": []
   },
   "outputs": [
    {
     "output_type": "stream",
     "name": "stdout",
     "text": "23\n32\n"
    }
   ],
   "source": [
    "# Get a Specific element [row,collumn]\n",
    "print(new[2,2])\n",
    "print(new[2,-1])"
   ]
  },
  {
   "cell_type": "code",
   "execution_count": 9,
   "metadata": {},
   "outputs": [
    {
     "output_type": "execute_result",
     "data": {
      "text/plain": "array([1, 2, 3, 4, 5])"
     },
     "metadata": {},
     "execution_count": 9
    }
   ],
   "source": [
    "# Get a specific row\n",
    "new[0,:]"
   ]
  },
  {
   "cell_type": "code",
   "execution_count": 10,
   "metadata": {},
   "outputs": [
    {
     "output_type": "execute_result",
     "data": {
      "text/plain": "array([ 3,  8, 23])"
     },
     "metadata": {},
     "execution_count": 10
    }
   ],
   "source": [
    "# Get a specific column\n",
    "new[:,2]"
   ]
  },
  {
   "cell_type": "code",
   "execution_count": 11,
   "metadata": {},
   "outputs": [
    {
     "output_type": "execute_result",
     "data": {
      "text/plain": "array([6, 8])"
     },
     "metadata": {},
     "execution_count": 11
    }
   ],
   "source": [
    "# Getting fancy [start:end:stepsize]\n",
    "new[1,0:-1:2]"
   ]
  },
  {
   "cell_type": "code",
   "execution_count": 12,
   "metadata": {
    "tags": []
   },
   "outputs": [
    {
     "output_type": "stream",
     "name": "stdout",
     "text": "[[ 1  2  3  4  5]\n [ 6  7  8  9  0]\n [ 3 43 99  1 32]]\n\n\n[[ 1  2  5  4  5]\n [ 6  7  5  9  0]\n [ 3 43  5  1 32]]\n\n\n[[1 2 5 4 5]\n [6 7 5 9 0]\n [5 5 5 5 5]]\n"
    }
   ],
   "source": [
    "# Changing an element <<<23 to 99\n",
    "new[2,2]=99\n",
    "print(new)\n",
    "\n",
    "print(\"\\n\")\n",
    "\n",
    "new[:,2]=5\n",
    "print(new)\n",
    "\n",
    "print(\"\\n\")\n",
    "\n",
    "new[2,:]=5\n",
    "print(new)"
   ]
  },
  {
   "cell_type": "markdown",
   "metadata": {},
   "source": [
    "* 3D eXAMple\n"
   ]
  },
  {
   "cell_type": "code",
   "execution_count": 13,
   "metadata": {
    "tags": []
   },
   "outputs": [
    {
     "output_type": "stream",
     "name": "stdout",
     "text": "[[[  1   2   3]\n  [  4   5   2]]\n\n [[ 21 212 434]\n  [ 28  34  68]]]\n"
    }
   ],
   "source": [
    "b = np.array([[[1,2,3],[4,5,2]],[[21,212,434],[28,34,68]]])\n",
    "print(b)"
   ]
  },
  {
   "cell_type": "code",
   "execution_count": 14,
   "metadata": {},
   "outputs": [
    {
     "output_type": "execute_result",
     "data": {
      "text/plain": "5"
     },
     "metadata": {},
     "execution_count": 14
    }
   ],
   "source": [
    "# Get specific (work outside-in)\n",
    "b[0,1,1]"
   ]
  },
  {
   "cell_type": "code",
   "execution_count": 15,
   "metadata": {
    "tags": []
   },
   "outputs": [
    {
     "output_type": "stream",
     "name": "stdout",
     "text": "[[[  1   2   3]\n  [  9   9 433]]\n\n [[ 21 212 434]\n  [ 23   3  44]]]\n"
    }
   ],
   "source": [
    "# Replace\n",
    "b[:,1,:]=[[9,9,433],[23,3,44]]\n",
    "print(b)"
   ]
  },
  {
   "cell_type": "code",
   "execution_count": null,
   "metadata": {},
   "outputs": [],
   "source": []
  }
 ],
 "metadata": {
  "kernelspec": {
   "display_name": "Python 3",
   "language": "python",
   "name": "python3"
  },
  "language_info": {
   "codemirror_mode": {
    "name": "ipython",
    "version": 3
   },
   "file_extension": ".py",
   "mimetype": "text/x-python",
   "name": "python",
   "nbconvert_exporter": "python",
   "pygments_lexer": "ipython3",
   "version": "3.8.3-final"
  }
 },
 "nbformat": 4,
 "nbformat_minor": 4
}