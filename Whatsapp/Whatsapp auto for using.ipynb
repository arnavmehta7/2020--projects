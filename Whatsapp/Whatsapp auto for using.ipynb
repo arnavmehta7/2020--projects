{
 "cells": [
  {
   "cell_type": "code",
   "execution_count": 1,
   "metadata": {},
   "outputs": [],
   "source": [
    "from selenium import webdriver \n",
    "from selenium.webdriver.support.ui import WebDriverWait \n",
    "from selenium.webdriver.support import expected_conditions as EC \n",
    "from selenium.webdriver.common.keys import Keys \n",
    "from selenium.webdriver.common.by import By \n",
    "import time"
   ]
  },
  {
   "cell_type": "code",
   "execution_count": 2,
   "metadata": {},
   "outputs": [],
   "source": [
    "driver = webdriver.Chrome(executable_path=r'E:\\Whatsapp Automation\\All Codes\\chromedriver.exe') \n",
    "\n",
    "driver.get(\"https://web.whatsapp.com/\") \n",
    "wait = WebDriverWait(driver, 1000) "
   ]
  },
  {
   "cell_type": "code",
   "execution_count": 44,
   "metadata": {},
   "outputs": [
    {
     "name": "stdout",
     "output_type": "stream",
     "text": [
      "ENTER TARGET:big\n"
     ]
    }
   ],
   "source": [
    "search = driver.find_elements_by_class_name(r\"_3FRCZ \")\n",
    "a = input(\"ENTER TARGET:\")\n",
    "search[0].send_keys(str(a)+ Keys.ENTER)"
   ]
  },
  {
   "cell_type": "code",
   "execution_count": null,
   "metadata": {
    "tags": []
   },
   "outputs": [],
   "source": [
    "# for i in range(101):\n",
    "#     search[1].send_keys(\"Sorry\"+Keys.ENTER)"
   ]
  },
  {
   "cell_type": "code",
   "execution_count": 45,
   "metadata": {},
   "outputs": [],
   "source": [
    "search[1].send_keys(\"Soorry and this msg is automated\"+Keys.ENTER)"
   ]
  },
  {
   "cell_type": "code",
   "execution_count": 47,
   "metadata": {},
   "outputs": [],
   "source": [
    "count = 0\n",
    "for i in range(101):\n",
    "    search[1].send_keys(\"HAHA .. THIS IS \"+str(count)+\" \"+Keys.ENTER)\n",
    "    count+=1"
   ]
  },
  {
   "cell_type": "code",
   "execution_count": 46,
   "metadata": {},
   "outputs": [],
   "source": [
    "import string\n",
    "a=string.ascii_uppercase\n",
    "# len(a)\n",
    "for i in range(26):\n",
    "    search[1].send_keys(f\"So here comes {a[i]}\"+Keys.ENTER)"
   ]
  },
  {
   "cell_type": "code",
   "execution_count": 25,
   "metadata": {},
   "outputs": [],
   "source": [
    "count = 101\n",
    "for i in range(101):\n",
    "    search[1].send_keys(f\"So here comes more {count}\"+Keys.ENTER)\n",
    "    count+=1"
   ]
  },
  {
   "cell_type": "markdown",
   "metadata": {},
   "source": [
    "# For receiving msgs"
   ]
  },
  {
   "cell_type": "code",
   "execution_count": 31,
   "metadata": {
    "tags": []
   },
   "outputs": [
    {
     "name": "stdout",
     "output_type": "stream",
     "text": [
      "https://www.facebook.com/1598858673745326/posts/2410443662586819/?sfnsn=wiwspwa&d=w&vh=e&extid=d35ROHc9wvs3vsZR&d=w&vh=e\n",
      "Can u plz fownload for me\n",
      "Download\n",
      "Kk\n",
      "Ho gya\n",
      "V gud work\n",
      "https://www.facebook.com/1429846174000330/posts/2684248781893390/?sfnsn=wiwspwa&extid=Ja050DCPlYwnk4li\n"
     ]
    }
   ],
   "source": [
    "msgs = driver.find_elements_by_class_name(r\"eRacY\")\n",
    "for i in msgs:\n",
    "    print(i.text)"
   ]
  },
  {
   "cell_type": "markdown",
   "metadata": {},
   "source": [
    "# send Attachments"
   ]
  },
  {
   "cell_type": "code",
   "execution_count": null,
   "metadata": {},
   "outputs": [],
   "source": [
    "attach = driver.find_element_by_xpath(r'//*[@title=\"Attach\"]')"
   ]
  },
  {
   "cell_type": "code",
   "execution_count": null,
   "metadata": {},
   "outputs": [],
   "source": [
    "# clicking\n",
    "attach.click()"
   ]
  },
  {
   "cell_type": "code",
   "execution_count": null,
   "metadata": {},
   "outputs": [],
   "source": [
    "dialog = driver.find_element_by_tag_name(r\"input\")\n",
    "dialo.send_keys(r\"\") ## Path to send"
   ]
  },
  {
   "cell_type": "code",
   "execution_count": null,
   "metadata": {},
   "outputs": [],
   "source": [
    "## setting send button\n",
    "send = driver.find_element_by_class_name(r\"_3hV1n\")"
   ]
  },
  {
   "cell_type": "markdown",
   "metadata": {},
   "source": [
    "# full Automation"
   ]
  },
  {
   "cell_type": "code",
   "execution_count": null,
   "metadata": {},
   "outputs": [],
   "source": [
    "\n",
    "#give the list of contact names in the below list\n",
    "names=[]\n",
    "\n",
    "#give the path of the bill for each user in the below list\n",
    "bills=[]\n",
    "\n",
    "#iterate over the names list\n",
    "for i in range(3):  ## if people are 3 then\n",
    "    name=names[i]\n",
    "    path=bills[i]\n",
    "    \n",
    "    #generate the message\n",
    "    msg1=\"Hi {0}\".format(name)\n",
    "    msg2=\"Thanks for purchasing. Your bill is attached.\"\n",
    "    msg3=\"Have a nice day\"\n",
    "    \n",
    "    #control the search contact text box\n",
    "    search=driver.find_elements_by_class_name(r\"_3FRCZ\")\n",
    "    \n",
    "    #type the contact name and press enter\n",
    "    search[0].send_keys(name+Keys.ENTER)\n",
    "    \n",
    "    #control the message text box\n",
    "    search=driver.find_elements_by_class_name(r\"_3FRCZ\")\n",
    "    \n",
    "    #type the messages and press enter\n",
    "    search[1].send_keys(msg1+Keys.ENTER)\n",
    "    search[1].send_keys(msg2+Keys.ENTER)\n",
    "    search[1].send_keys(msg3+Keys.ENTER)\n",
    "    \n",
    "    #control the attach button\n",
    "    attach=driver.find_element_by_xpath(r'//*[@title=\"Attach\"]')  \n",
    "    #click the attach button\n",
    "    attach.click()\n",
    "    \n",
    "    #contol the open dialog\n",
    "    dialog=driver.find_element_by_tag_name(r\"input\")\n",
    "    #send the bill \n",
    "    dialog.send_keys(path)\n",
    "    \n",
    "    #add delay to wait till the upload is completed\n",
    "    import time\n",
    "    time.sleep(2)\n",
    "    \n",
    "    #control the send button\n",
    "    but=driver.find_element_by_class_name(r\"_3hV1n\")\n",
    "    #click the send button\n",
    "    but.click()\n",
    "    \n",
    "    #wait for some time before opening next chat\n",
    "    time.sleep(2)\n",
    "    \n"
   ]
  }
 ],
 "metadata": {
  "kernelspec": {
   "display_name": "Python 3.8.3 32-bit",
   "language": "python",
   "name": "python38332bit9ec617c82bc14cd087eb38439481b3e7"
  },
  "language_info": {
   "codemirror_mode": {
    "name": "ipython",
    "version": 3
   },
   "file_extension": ".py",
   "mimetype": "text/x-python",
   "name": "python",
   "nbconvert_exporter": "python",
   "pygments_lexer": "ipython3",
   "version": "3.8.3"
  }
 },
 "nbformat": 4,
 "nbformat_minor": 2
}
